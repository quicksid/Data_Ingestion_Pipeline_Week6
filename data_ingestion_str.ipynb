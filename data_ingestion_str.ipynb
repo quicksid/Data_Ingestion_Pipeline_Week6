{
  "nbformat": 4,
  "nbformat_minor": 0,
  "metadata": {
    "colab": {
      "provenance": []
    },
    "kernelspec": {
      "name": "python3",
      "display_name": "Python 3"
    },
    "language_info": {
      "name": "python"
    }
  },
  "cells": [
    {
      "cell_type": "code",
      "execution_count": null,
      "metadata": {
        "id": "hVpNEFBi5J9v"
      },
      "outputs": [],
      "source": [
        "#from google.colab import drive\n",
        "#drive.mount('/content/gdrive')"
      ]
    },
    {
      "cell_type": "code",
      "source": [
        "#from google.colab import files\n",
        "#files.upload()"
      ],
      "metadata": {
        "id": "jATzpqGSAuQe"
      },
      "execution_count": null,
      "outputs": []
    },
    {
      "cell_type": "code",
      "source": [
        "#!ls -lha kaggle.json"
      ],
      "metadata": {
        "id": "ftBr-jCPBLUH"
      },
      "execution_count": null,
      "outputs": []
    },
    {
      "cell_type": "code",
      "source": [
        "#!pip install -q kaggle"
      ],
      "metadata": {
        "id": "zdis6Hq1BQ1f"
      },
      "execution_count": 5,
      "outputs": []
    },
    {
      "cell_type": "code",
      "source": [
        "#!mkdir -p ~/.kaggle\n",
        "#!cp kaggle.json ~/.kaggle/"
      ],
      "metadata": {
        "id": "lfL0FulpBUeQ"
      },
      "execution_count": 6,
      "outputs": []
    },
    {
      "cell_type": "code",
      "source": [
        "#!chmod 600 /root/.kaggle/kaggle.json"
      ],
      "metadata": {
        "id": "b_hDlnAXBg1p"
      },
      "execution_count": 7,
      "outputs": []
    },
    {
      "cell_type": "code",
      "source": [
        "#!pwd"
      ],
      "metadata": {
        "id": "bmWMFW7fBlsl"
      },
      "execution_count": null,
      "outputs": []
    },
    {
      "cell_type": "code",
      "source": [
        "#!kaggle datasets list"
      ],
      "metadata": {
        "colab": {
          "base_uri": "https://localhost:8080/"
        },
        "id": "dRgJy1nRBv7Y",
        "outputId": "660977c7-77ee-4d70-c3a8-9f0f989078aa"
      },
      "execution_count": 9,
      "outputs": [
        {
          "output_type": "stream",
          "name": "stdout",
          "text": [
            "ref                                                                 title                                                size  lastUpdated          downloadCount  voteCount  usabilityRating  \n",
            "------------------------------------------------------------------  --------------------------------------------------  -----  -------------------  -------------  ---------  ---------------  \n",
            "rabieelkharoua/students-performance-dataset                         📚 Students Performance Dataset 📚                     66KB  2024-06-12 23:09:20          12645        266  1.0              \n",
            "nelgiriyewithana/most-streamed-spotify-songs-2024                   Most Streamed Spotify Songs 2024                    496KB  2024-06-15 18:50:51           9704        207  1.0              \n",
            "fahmidachowdhury/e-commerce-sales-analysis                          📈 E-Commerce Sales Analysis                          35KB  2024-07-04 20:02:23            935         26  0.9411765        \n",
            "ihelon/coffee-sales                                                 Coffee Sales                                         10KB  2024-07-03 20:04:43           2305         49  1.0              \n",
            "dataanalyst001/population-of-all-us-cities-2024                     Population of all US Cities 2024                      8KB  2024-07-04 12:00:17            724         22  1.0              \n",
            "gorororororo23/european-restaurant-reviews                          European Restaurant Reviews                         204KB  2024-07-09 11:18:56            545         22  1.0              \n",
            "manishpingale/top-anime-ranked                                      Top anime ranked                                    259KB  2024-07-09 10:57:50            485         21  1.0              \n",
            "dataanalyst001/world-population-by-country-2024                     World Population by country 2024                      6KB  2024-07-04 09:47:58           1433         29  1.0              \n",
            "nikhil7280/weather-type-classification                              Weather Type Classification                         186KB  2024-06-23 18:15:05           2982         58  1.0              \n",
            "utsavdey1410/food-nutrition-dataset                                 Food Nutrition Dataset                              694KB  2024-06-29 19:42:01           1671         48  1.0              \n",
            "tarktunataalt/2023-global-country-development-and-prosperity-index  2023 Global Country Development & Prosperity Index    7KB  2024-06-29 22:46:03            840         21  1.0              \n",
            "humairmunir/anaemia-prediction                                      Anaemia Prediction                                    2KB  2024-07-04 17:58:40            970         35  1.0              \n",
            "muhammadroshaanriaz/icc-mens-t20-worldcup                           Crick World Cup 2024 ICC Men's T20                    3KB  2024-07-08 17:09:28           1030         30  1.0              \n",
            "melissamonfared/formula-1                                           Formula 1 Racing (1950 - 2024)                        6MB  2024-07-06 15:01:05            127         84  1.0              \n",
            "shreyanshverma27/online-sales-dataset-popular-marketplace-data      Online Sales Dataset - Popular Marketplace Data       7KB  2024-05-25 23:55:26          15792        260  1.0              \n",
            "melissamonfared/cambridge-crime-data-2009-2024                      Cambridge Crime Data                                  2MB  2024-07-01 16:00:48            263         99  1.0              \n",
            "sujalsuthar/amazon-delivery-dataset                                 Amazon Delivery Dataset                               2MB  2024-07-02 03:39:48           1302         32  1.0              \n",
            "shayanshahid997/police-arrest-from-2021-2023                        Police Arrest from 2021-2023                        234KB  2024-07-02 11:41:39            392         21  1.0              \n",
            "innocentmfa/students-health-and-academic-performance                Students Health🩺 & Academic📖 Performance🎗️            3KB  2024-06-27 03:57:32           1232         39  1.0              \n",
            "gorororororo23/armenian-market-cars-prediction                      Armenian Market Car Price Prediction                 85KB  2024-07-06 02:20:51            610         22  1.0              \n"
          ]
        }
      ]
    },
    {
      "cell_type": "code",
      "source": [
        "#!kaggle datasets download -d mohamedbakhet/amazon-books-reviews"
      ],
      "metadata": {
        "id": "BaNaTfLuByef"
      },
      "execution_count": null,
      "outputs": []
    },
    {
      "cell_type": "code",
      "source": [
        "#!unzip amazon-books-reviews.zip"
      ],
      "metadata": {
        "id": "VFABGk4vCDbQ"
      },
      "execution_count": null,
      "outputs": []
    },
    {
      "cell_type": "markdown",
      "source": [
        "## **Data Ingestion Techniques**"
      ],
      "metadata": {
        "id": "rrSrlAw6Cc4J"
      }
    },
    {
      "cell_type": "code",
      "source": [
        "import pandas as pd\n",
        "import numpy as np\n",
        "import matplotlib.pyplot as plt\n",
        "import seaborn as sns"
      ],
      "metadata": {
        "id": "u-9UzoxMCMhc"
      },
      "execution_count": 12,
      "outputs": []
    },
    {
      "cell_type": "markdown",
      "source": [
        "#### **Pandas:**"
      ],
      "metadata": {
        "id": "p0e67AdbEcI5"
      }
    },
    {
      "cell_type": "code",
      "source": [
        "df_ratings = pd.read_csv('Books_rating.csv')\n",
        "df_books = pd.read_csv('books_data.csv')"
      ],
      "metadata": {
        "id": "ItKMfVojCtxe"
      },
      "execution_count": 13,
      "outputs": []
    },
    {
      "cell_type": "markdown",
      "source": [
        "> Pandas took almost ~1 minute to load the data."
      ],
      "metadata": {
        "id": "t1nLl2S5DO0-"
      }
    },
    {
      "cell_type": "code",
      "source": [
        "# Deleting the dataframes\n",
        "\n",
        "lst = [df_ratings, df_books]\n",
        "del lst\n",
        "del df_ratings, df_books"
      ],
      "metadata": {
        "id": "_PX-wXjcC8_u"
      },
      "execution_count": 19,
      "outputs": []
    },
    {
      "cell_type": "code",
      "source": [],
      "metadata": {
        "id": "y1tYHJU8EadM"
      },
      "execution_count": null,
      "outputs": []
    }
  ]
}