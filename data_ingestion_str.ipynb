{
  "nbformat": 4,
  "nbformat_minor": 0,
  "metadata": {
    "colab": {
      "provenance": []
    },
    "kernelspec": {
      "name": "python3",
      "display_name": "Python 3"
    },
    "language_info": {
      "name": "python"
    }
  },
  "cells": [
    {
      "cell_type": "code",
      "execution_count": null,
      "metadata": {
        "id": "hVpNEFBi5J9v"
      },
      "outputs": [],
      "source": [
        "#from google.colab import drive\n",
        "#drive.mount('/content/gdrive')"
      ]
    },
    {
      "cell_type": "code",
      "source": [
        "#from google.colab import files\n",
        "#files.upload()"
      ],
      "metadata": {
        "id": "jATzpqGSAuQe"
      },
      "execution_count": null,
      "outputs": []
    },
    {
      "cell_type": "code",
      "source": [
        "#!ls -lha kaggle.json"
      ],
      "metadata": {
        "id": "ftBr-jCPBLUH"
      },
      "execution_count": null,
      "outputs": []
    },
    {
      "cell_type": "code",
      "source": [
        "#!pip install -q kaggle"
      ],
      "metadata": {
        "id": "zdis6Hq1BQ1f"
      },
      "execution_count": 9,
      "outputs": []
    },
    {
      "cell_type": "code",
      "source": [
        "#!mkdir -p ~/.kaggle\n",
        "#!cp kaggle.json ~/.kaggle/"
      ],
      "metadata": {
        "id": "lfL0FulpBUeQ"
      },
      "execution_count": 10,
      "outputs": []
    },
    {
      "cell_type": "code",
      "source": [
        "#!chmod 600 /root/.kaggle/kaggle.json"
      ],
      "metadata": {
        "id": "b_hDlnAXBg1p"
      },
      "execution_count": 11,
      "outputs": []
    },
    {
      "cell_type": "code",
      "source": [
        "#!pwd"
      ],
      "metadata": {
        "id": "bmWMFW7fBlsl"
      },
      "execution_count": null,
      "outputs": []
    },
    {
      "cell_type": "code",
      "source": [
        "#!kaggle datasets list"
      ],
      "metadata": {
        "colab": {
          "base_uri": "https://localhost:8080/"
        },
        "id": "dRgJy1nRBv7Y",
        "outputId": "ebc5727c-a448-4e56-d850-223c836df11e"
      },
      "execution_count": 13,
      "outputs": [
        {
          "output_type": "stream",
          "name": "stdout",
          "text": [
            "ref                                                                 title                                                size  lastUpdated          downloadCount  voteCount  usabilityRating  \n",
            "------------------------------------------------------------------  --------------------------------------------------  -----  -------------------  -------------  ---------  ---------------  \n",
            "rabieelkharoua/students-performance-dataset                         📚 Students Performance Dataset 📚                     66KB  2024-06-12 23:09:20          13294        273  1.0              \n",
            "nelgiriyewithana/most-streamed-spotify-songs-2024                   Most Streamed Spotify Songs 2024                    496KB  2024-06-15 18:50:51          10089        211  1.0              \n",
            "ambaliyagati/spotify-dataset-for-playing-around-with-sql            Spotify dataset                                     302KB  2024-06-17 10:48:20           1978         43  1.0              \n",
            "ihelon/coffee-sales                                                 Coffee Sales                                         10KB  2024-07-03 20:04:43           2498         50  1.0              \n",
            "omarsobhy14/hotel-revenue2024                                       Hotel Revenue2024 🏨💰                                  2KB  2024-07-09 11:59:08            550         22  1.0              \n",
            "kapturovalexander/food-orders                                       😋🍗🍖 Food orders                                     846KB  2024-07-09 11:52:31            578         23  1.0              \n",
            "fahmidachowdhury/e-commerce-sales-analysis                          📈 E-Commerce Sales Analysis                          35KB  2024-07-04 20:02:23           1079         28  0.9411765        \n",
            "dataanalyst001/population-of-all-us-cities-2024                     Population of all US Cities 2024                      8KB  2024-07-04 12:00:17            754         23  1.0              \n",
            "dataanalyst001/world-population-by-country-2024                     World Population by country 2024                      6KB  2024-07-04 09:47:58           1484         31  1.0              \n",
            "manishpingale/top-anime-ranked                                      Top anime ranked                                    259KB  2024-07-09 10:57:50            524         22  1.0              \n",
            "utsavdey1410/food-nutrition-dataset                                 Food Nutrition Dataset                              694KB  2024-06-29 19:42:01           1797         48  1.0              \n",
            "gorororororo23/european-restaurant-reviews                          European Restaurant Reviews                         204KB  2024-07-09 11:18:56            636         24  1.0              \n",
            "nikhil7280/weather-type-classification                              Weather Type Classification                         186KB  2024-06-23 18:15:05           3134         59  1.0              \n",
            "tarktunataalt/2023-global-country-development-and-prosperity-index  2023 Global Country Development & Prosperity Index    7KB  2024-06-29 22:46:03            865         22  1.0              \n",
            "humairmunir/anaemia-prediction                                      Anaemia Prediction                                    2KB  2024-07-04 17:58:40           1029         35  1.0              \n",
            "muhammadroshaanriaz/icc-mens-t20-worldcup                           Crick World Cup 2024 ICC Men's T20                    3KB  2024-07-08 17:09:28           1094         30  1.0              \n",
            "melissamonfared/formula-1                                           Formula 1 Racing (1950 - 2024)                        6MB  2024-07-06 15:01:05            156         87  1.0              \n",
            "shreyanshverma27/online-sales-dataset-popular-marketplace-data      Online Sales Dataset - Popular Marketplace Data       7KB  2024-05-25 23:55:26          15930        265  1.0              \n",
            "beeru999/amazon-stock-prices1997-2021                               Amazon stock Prices(1997-2023).                     124KB  2024-06-19 07:38:44            873         25  1.0              \n",
            "melissamonfared/cambridge-crime-data-2009-2024                      Cambridge Crime Data                                  2MB  2024-07-01 16:00:48            273         99  1.0              \n"
          ]
        }
      ]
    },
    {
      "cell_type": "code",
      "source": [
        "#!kaggle datasets download -d mohamedbakhet/amazon-books-reviews"
      ],
      "metadata": {
        "id": "BaNaTfLuByef",
        "colab": {
          "base_uri": "https://localhost:8080/"
        },
        "outputId": "20bfae1c-7f4e-4fdf-de5c-c1af7e414cae"
      },
      "execution_count": 14,
      "outputs": [
        {
          "output_type": "stream",
          "name": "stdout",
          "text": [
            "Dataset URL: https://www.kaggle.com/datasets/mohamedbakhet/amazon-books-reviews\n",
            "License(s): CC0-1.0\n",
            "Downloading amazon-books-reviews.zip to /content\n",
            "100% 1.06G/1.06G [00:57<00:00, 23.4MB/s]\n",
            "100% 1.06G/1.06G [00:57<00:00, 20.0MB/s]\n"
          ]
        }
      ]
    },
    {
      "cell_type": "code",
      "source": [
        "#!unzip amazon-books-reviews.zip"
      ],
      "metadata": {
        "id": "VFABGk4vCDbQ",
        "colab": {
          "base_uri": "https://localhost:8080/"
        },
        "outputId": "788d9cb8-aead-4b92-9d6d-25cf4c1c7abd"
      },
      "execution_count": 15,
      "outputs": [
        {
          "output_type": "stream",
          "name": "stdout",
          "text": [
            "Archive:  amazon-books-reviews.zip\n",
            "  inflating: Books_rating.csv        \n",
            "  inflating: books_data.csv          \n"
          ]
        }
      ]
    },
    {
      "cell_type": "markdown",
      "source": [
        "## **File Reading Approaches**"
      ],
      "metadata": {
        "id": "rrSrlAw6Cc4J"
      }
    },
    {
      "cell_type": "code",
      "source": [
        "import pandas as pd\n",
        "import numpy as np\n",
        "import matplotlib.pyplot as plt\n",
        "import seaborn as sns"
      ],
      "metadata": {
        "id": "u-9UzoxMCMhc"
      },
      "execution_count": 16,
      "outputs": []
    },
    {
      "cell_type": "markdown",
      "source": [
        "#### **Pandas:**"
      ],
      "metadata": {
        "id": "p0e67AdbEcI5"
      }
    },
    {
      "cell_type": "code",
      "source": [
        "df_ratings = pd.read_csv('Books_rating.csv')\n",
        "df_books = pd.read_csv('books_data.csv')"
      ],
      "metadata": {
        "id": "ItKMfVojCtxe"
      },
      "execution_count": 12,
      "outputs": []
    },
    {
      "cell_type": "markdown",
      "source": [
        "> Pandas took almost ~1 minute to load the data."
      ],
      "metadata": {
        "id": "t1nLl2S5DO0-"
      }
    },
    {
      "cell_type": "code",
      "source": [
        "# Deleting the dataframes\n",
        "\n",
        "lst = [df_ratings, df_books]\n",
        "del lst\n",
        "del df_ratings, df_books"
      ],
      "metadata": {
        "id": "_PX-wXjcC8_u"
      },
      "execution_count": null,
      "outputs": []
    },
    {
      "cell_type": "markdown",
      "source": [
        "### **Files:**"
      ],
      "metadata": {
        "id": "yW27bRZLUCM4"
      }
    },
    {
      "cell_type": "code",
      "source": [
        "with open('Books_rating.csv', 'r') as f:\n",
        "  df_ratings = f.read()\n",
        "\n",
        "with open('books_data.csv', 'r') as f:\n",
        "  df_books = f.read()"
      ],
      "metadata": {
        "id": "y1tYHJU8EadM"
      },
      "execution_count": 14,
      "outputs": []
    },
    {
      "cell_type": "markdown",
      "source": [
        "> Reading by open() & read() function takes ~ 15 seconds to read the files. Which is an improvement over the Pandas library."
      ],
      "metadata": {
        "id": "x1Ed1y_sVBEq"
      }
    },
    {
      "cell_type": "code",
      "source": [
        "with open('Books_rating.csv', 'r') as f:\n",
        "  df_ratings = f.readlines()\n",
        "\n",
        "with open('books_data.csv', 'r') as f:\n",
        "  df_books = f.readlines()"
      ],
      "metadata": {
        "id": "cQ1DzxUiU3kh"
      },
      "execution_count": 17,
      "outputs": []
    },
    {
      "cell_type": "markdown",
      "source": [
        "> Reading by open() & readlines() function takes ~ 5 seconds to read the files. Which is much faster compared to read() function and Pandas library."
      ],
      "metadata": {
        "id": "OG9kgWcidE_6"
      }
    },
    {
      "cell_type": "code",
      "source": [],
      "metadata": {
        "id": "juDA-Nb5JG-O"
      },
      "execution_count": null,
      "outputs": []
    }
  ]
}